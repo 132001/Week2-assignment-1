{
 "cells": [
  {
   "cell_type": "code",
   "execution_count": 1,
   "id": "0a794dec-e8b4-4c10-b4d4-1514df800e20",
   "metadata": {},
   "outputs": [],
   "source": [
    "#Qestion 1\n",
    "#Ans"
   ]
  },
  {
   "cell_type": "code",
   "execution_count": null,
   "id": "f9391583-7dbf-437e-bc5f-ba127e3468b1",
   "metadata": {},
   "outputs": [],
   "source": [
    "There are 3 type of comment - \n",
    "1. Single line comment by using #\n",
    "#This is single line comment.\n",
    "2. Multi line comment by using #\n",
    "#This is line 1\n",
    "#This is line 2\n",
    "\n",
    "3. By using doc string '''comment'''\n",
    "'''This is a comment and can use as a string in special cases.'''\n"
   ]
  },
  {
   "cell_type": "code",
   "execution_count": 2,
   "id": "45d3c1ad-6776-4186-96ca-4cc9f78ba460",
   "metadata": {},
   "outputs": [],
   "source": [
    "#Question 2\n",
    "#Ans"
   ]
  },
  {
   "cell_type": "code",
   "execution_count": null,
   "id": "d3c5603a-08fd-4d7a-9f6b-f23be60e5547",
   "metadata": {},
   "outputs": [],
   "source": [
    "Variables - A variable is a container that stores some value in it.\n",
    "Declaring and assigning a value in a variable\n",
    "x = 5"
   ]
  },
  {
   "cell_type": "code",
   "execution_count": 3,
   "id": "415c01de-f547-445d-b9d4-56f85bb43d06",
   "metadata": {},
   "outputs": [],
   "source": [
    "#Question 3\n",
    "#Ans"
   ]
  },
  {
   "cell_type": "code",
   "execution_count": null,
   "id": "ce3a703a-a86a-4a8f-9fd1-7f5eab801487",
   "metadata": {},
   "outputs": [],
   "source": [
    "We can convert one data type to another data type by typecasting"
   ]
  },
  {
   "cell_type": "code",
   "execution_count": 4,
   "id": "80c8683f-51ed-446e-bba6-89da884c75e2",
   "metadata": {},
   "outputs": [],
   "source": [
    "#Example:-\n",
    "x = 4.5\n",
    "y = int(x)"
   ]
  },
  {
   "cell_type": "code",
   "execution_count": 5,
   "id": "205473aa-9072-4bf6-a1fc-c0df629eb292",
   "metadata": {},
   "outputs": [
    {
     "name": "stdout",
     "output_type": "stream",
     "text": [
      "4\n"
     ]
    }
   ],
   "source": [
    "print(y)"
   ]
  },
  {
   "cell_type": "code",
   "execution_count": 6,
   "id": "4b0deeb1-0857-4d39-9d95-267c3e971c42",
   "metadata": {},
   "outputs": [],
   "source": [
    "#Question 4\n",
    "#Ans"
   ]
  },
  {
   "cell_type": "code",
   "execution_count": 7,
   "id": "4a593d2a-fb95-4123-8bde-d3cd65fb2801",
   "metadata": {},
   "outputs": [],
   "source": [
    "#There are following steps to run and execute python script in commanline\n",
    "#1. Open command prompt\n",
    "#2. Check python it is installed or not\n",
    "#3. If not then install and if already installed then type pyhon\n",
    "#4. Now write your script and run it by pressing enter"
   ]
  },
  {
   "cell_type": "code",
   "execution_count": 8,
   "id": "62bbe6b2-f881-4d6f-8f95-8ad9d2b6b447",
   "metadata": {},
   "outputs": [],
   "source": [
    "#Question 5\n",
    "#Ans"
   ]
  },
  {
   "cell_type": "code",
   "execution_count": 9,
   "id": "af67f62b-2b27-4492-8760-463eeb15c0d6",
   "metadata": {},
   "outputs": [],
   "source": [
    "my_list = [1,2,3,4,5]"
   ]
  },
  {
   "cell_type": "code",
   "execution_count": 10,
   "id": "b0f04f69-1803-4e83-8a55-2be255bc5fb3",
   "metadata": {},
   "outputs": [],
   "source": [
    "lst = my_list[1:3]"
   ]
  },
  {
   "cell_type": "code",
   "execution_count": 11,
   "id": "100b32f3-0a88-4c9d-9c86-c300ed7a0c78",
   "metadata": {},
   "outputs": [
    {
     "name": "stdout",
     "output_type": "stream",
     "text": [
      "[2, 3]\n"
     ]
    }
   ],
   "source": [
    "print(lst)"
   ]
  },
  {
   "cell_type": "code",
   "execution_count": 12,
   "id": "dc00b90a-133d-42b9-91fa-ab635a2e92e5",
   "metadata": {},
   "outputs": [],
   "source": [
    "#Question 6\n",
    "#Ans"
   ]
  },
  {
   "cell_type": "code",
   "execution_count": 13,
   "id": "c86c1ef0-2ccc-4f91-ae79-4a28ab4b72ca",
   "metadata": {},
   "outputs": [],
   "source": [
    "#Complex number: - A complex number is a sum of real and imaginary number.\n",
    "#In python we can represent it like - 3+4j\n",
    "complex = 3+4j"
   ]
  },
  {
   "cell_type": "code",
   "execution_count": 14,
   "id": "e2bbea3b-de24-4dd1-a125-70091cb84045",
   "metadata": {},
   "outputs": [
    {
     "name": "stdout",
     "output_type": "stream",
     "text": [
      "(3+4j)\n"
     ]
    }
   ],
   "source": [
    "print(complex)"
   ]
  },
  {
   "cell_type": "code",
   "execution_count": 15,
   "id": "471dd820-619d-436e-b46f-5fd3f103e924",
   "metadata": {},
   "outputs": [
    {
     "data": {
      "text/plain": [
       "complex"
      ]
     },
     "execution_count": 15,
     "metadata": {},
     "output_type": "execute_result"
    }
   ],
   "source": [
    "type(complex)"
   ]
  },
  {
   "cell_type": "code",
   "execution_count": 16,
   "id": "4d0c8fcb-b8db-40d3-81cf-04e3cad50ece",
   "metadata": {},
   "outputs": [],
   "source": [
    "#Question 7\n",
    "#Ans"
   ]
  },
  {
   "cell_type": "code",
   "execution_count": 17,
   "id": "70425cb5-f718-4d19-8a54-8d34087e9cf5",
   "metadata": {},
   "outputs": [],
   "source": [
    "#To declare a variable age and assigned a value 25 in it\n",
    "age = 25"
   ]
  },
  {
   "cell_type": "code",
   "execution_count": 18,
   "id": "765d645a-505a-4eba-bfb3-b252c3447c73",
   "metadata": {},
   "outputs": [
    {
     "name": "stdout",
     "output_type": "stream",
     "text": [
      "25\n"
     ]
    }
   ],
   "source": [
    "print(age)"
   ]
  },
  {
   "cell_type": "code",
   "execution_count": 19,
   "id": "8f72ca67-5e7d-4116-a67a-da2adf1b5caa",
   "metadata": {},
   "outputs": [],
   "source": [
    "#Question 8\n",
    "#Ans"
   ]
  },
  {
   "cell_type": "code",
   "execution_count": 20,
   "id": "14ed3571-f78f-4632-bcf6-9b050e6c3ff9",
   "metadata": {},
   "outputs": [],
   "source": [
    "price = 9.99"
   ]
  },
  {
   "cell_type": "code",
   "execution_count": 21,
   "id": "09f5b6ba-ee78-4b26-bfc2-6f35172aa4a3",
   "metadata": {},
   "outputs": [
    {
     "data": {
      "text/plain": [
       "float"
      ]
     },
     "execution_count": 21,
     "metadata": {},
     "output_type": "execute_result"
    }
   ],
   "source": [
    "type(price)"
   ]
  },
  {
   "cell_type": "code",
   "execution_count": 22,
   "id": "4745ae45-90d4-416c-ae37-c30f97093315",
   "metadata": {},
   "outputs": [],
   "source": [
    "#Question 9\n",
    "#Ans"
   ]
  },
  {
   "cell_type": "code",
   "execution_count": 23,
   "id": "b25931cd-3268-4e7e-a464-1d6978eb8fd5",
   "metadata": {},
   "outputs": [],
   "source": [
    "name = \"Ankit Kumawat\""
   ]
  },
  {
   "cell_type": "code",
   "execution_count": 24,
   "id": "d82317b2-059c-437d-807d-ae45a8109a5c",
   "metadata": {},
   "outputs": [
    {
     "name": "stdout",
     "output_type": "stream",
     "text": [
      "Ankit Kumawat\n"
     ]
    }
   ],
   "source": [
    "print(name)"
   ]
  },
  {
   "cell_type": "code",
   "execution_count": 25,
   "id": "e5cca952-75cc-49e8-9dab-87f9c6cd1290",
   "metadata": {},
   "outputs": [],
   "source": [
    "#Question 10\n",
    "#Ans"
   ]
  },
  {
   "cell_type": "code",
   "execution_count": 26,
   "id": "dc4d80c5-55ad-4def-b6f6-c7ad898a6d47",
   "metadata": {},
   "outputs": [],
   "source": [
    "str = \"Hello World!\""
   ]
  },
  {
   "cell_type": "code",
   "execution_count": 27,
   "id": "d17d4139-d692-4519-8896-804629fe216e",
   "metadata": {},
   "outputs": [
    {
     "name": "stdout",
     "output_type": "stream",
     "text": [
      "World\n"
     ]
    }
   ],
   "source": [
    "print(str[6:len(str)-1])"
   ]
  },
  {
   "cell_type": "code",
   "execution_count": 28,
   "id": "12dabe50-12f0-4b1c-adf3-9f2d4a9408f4",
   "metadata": {},
   "outputs": [],
   "source": [
    "is_student = True"
   ]
  },
  {
   "cell_type": "code",
   "execution_count": 29,
   "id": "da45cfd7-ee39-4828-824b-0441a9488db3",
   "metadata": {},
   "outputs": [
    {
     "name": "stdout",
     "output_type": "stream",
     "text": [
      "True\n"
     ]
    }
   ],
   "source": [
    "print(is_student)"
   ]
  },
  {
   "cell_type": "code",
   "execution_count": null,
   "id": "2c84ef00-2106-45ce-9e2a-81ef6aa9ac82",
   "metadata": {},
   "outputs": [],
   "source": []
  }
 ],
 "metadata": {
  "kernelspec": {
   "display_name": "Python 3 (ipykernel)",
   "language": "python",
   "name": "python3"
  },
  "language_info": {
   "codemirror_mode": {
    "name": "ipython",
    "version": 3
   },
   "file_extension": ".py",
   "mimetype": "text/x-python",
   "name": "python",
   "nbconvert_exporter": "python",
   "pygments_lexer": "ipython3",
   "version": "3.10.8"
  }
 },
 "nbformat": 4,
 "nbformat_minor": 5
}
